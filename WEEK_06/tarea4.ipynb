{
 "cells": [
  {
   "cell_type": "code",
   "execution_count": 1,
   "metadata": {},
   "outputs": [],
   "source": [
    "import pandas as pd\n",
    "import duckdb\n",
    "from glob import glob"
   ]
  },
  {
   "attachments": {},
   "cell_type": "markdown",
   "metadata": {},
   "source": []
  },
  {
   "cell_type": "code",
   "execution_count": 2,
   "metadata": {},
   "outputs": [],
   "source": [
    "part = [\"PARTKEY\", \"NAME\", \"MFGR\", \"BRAND\", \"TYPE\", \"SIZE\", \"CONTAINER\", \"RETAILPRICE\", \"COMMENT\"]\n",
    "supplier = [\"SUPPKEY\", \"NAME\", \"ADDRESS\", \"NATIONKEY\", \"PHONE\", \"ACCTBAL\", \"COMMENT\"]\n",
    "partsupp = [\"PARTKEY\", \"SUPPKEY\", \"AVAILQTY\", \"SUPPLYCOST\", \"COMMENT\"]\n",
    "customer = [\"CUSTKEY\", \"NAME\", \"ADDRESS\", \"NATIONKEY\", \"PHONE\", \"ACCTBAL\", \"MKTSEGMENT\", \"COMMENT\"]\n",
    "NATION_ = [\"NATIONKEY\", \"NAME\", \"REGIONKEY\", \"COMMENT\"]\n",
    "LINEITEM = [\"ORDERKEY\", \"PARTKEY\", \"SUPPKEY\", \"LINENUMBER\", \"QUANTITY\", \n",
    "            \"EXTENDEDPRICE\", \"DISCOUNT\", \"TAX\", \"RETURNFLAG\", \"LINESTATUS\", \"SHIPDATE\", \n",
    "            \"COMMITDATE\", \"RECEIPTDATE\", \"SHIPINSTRUCT\", \"SHIPMODE\", \"COMMENT\"]\n",
    "REGION = [\"REGIONKEY\", \"NAME\", \"COMMENT\"]\n",
    "ORDERS = [\"ORDERKEY\", \"CUSTKEY\", \"ORDERSTATUS\", \"TOTALPRICE\", \"ORDERDATE\", \"ORDERPRIORITY\", \"CLERK\", \"SHIPPRIORITY\", \"COMMENT\"]"
   ]
  },
  {
   "cell_type": "code",
   "execution_count": 3,
   "metadata": {},
   "outputs": [
    {
     "data": {
      "text/plain": [
       "['c:\\\\Users\\\\Andre\\\\Desktop\\\\UTEC\\\\Utec2023-1\\\\BigData\\\\TBLdata\\\\customer.tbl',\n",
       " 'c:\\\\Users\\\\Andre\\\\Desktop\\\\UTEC\\\\Utec2023-1\\\\BigData\\\\TBLdata\\\\lineitem.tbl',\n",
       " 'c:\\\\Users\\\\Andre\\\\Desktop\\\\UTEC\\\\Utec2023-1\\\\BigData\\\\TBLdata\\\\nation.tbl',\n",
       " 'c:\\\\Users\\\\Andre\\\\Desktop\\\\UTEC\\\\Utec2023-1\\\\BigData\\\\TBLdata\\\\orders.tbl',\n",
       " 'c:\\\\Users\\\\Andre\\\\Desktop\\\\UTEC\\\\Utec2023-1\\\\BigData\\\\TBLdata\\\\part.tbl',\n",
       " 'c:\\\\Users\\\\Andre\\\\Desktop\\\\UTEC\\\\Utec2023-1\\\\BigData\\\\TBLdata\\\\partsupp.tbl',\n",
       " 'c:\\\\Users\\\\Andre\\\\Desktop\\\\UTEC\\\\Utec2023-1\\\\BigData\\\\TBLdata\\\\region.tbl',\n",
       " 'c:\\\\Users\\\\Andre\\\\Desktop\\\\UTEC\\\\Utec2023-1\\\\BigData\\\\TBLdata\\\\supplier.tbl']"
      ]
     },
     "execution_count": 3,
     "metadata": {},
     "output_type": "execute_result"
    }
   ],
   "source": [
    "paths = glob(\"c:\\\\Users\\\\Andre\\\\Desktop\\\\UTEC\\\\Utec2023-1\\\\BigData\\\\TBLdata\\\\*\")\n",
    "paths"
   ]
  },
  {
   "cell_type": "code",
   "execution_count": 4,
   "metadata": {},
   "outputs": [],
   "source": [
    "names = [\"customer\", \"lineitem\", \"nation\", \"orders\", \"part\", \"partsupp\", \"region\", \"supplier\"]\n",
    "columns = [customer, LINEITEM, NATION_, ORDERS, part, partsupp, REGION, supplier]\n",
    "addLetter = [\"c_\", \"l_\", \"n_\", \"o_\", \"p_\", \"ps_\", \"r_\", \"s_\"]\n",
    "size_ = len(columns)\n",
    "header_ = []\n",
    "for i, column in enumerate(columns):\n",
    "    head = []\n",
    "    for name in column:\n",
    "        head.append(addLetter[i] + name.lower())\n",
    "    header_.append(head)\n"
   ]
  },
  {
   "cell_type": "code",
   "execution_count": 5,
   "metadata": {},
   "outputs": [],
   "source": [
    "for i, path in enumerate(paths):\n",
    "    if i == 1 or i == 4:\n",
    "        df = pd.read_table(path, sep=\"|\", header=None)\n",
    "        df = df.iloc[:, :-1]\n",
    "        df.columns = header_[i]\n",
    "        df.to_parquet(f\"{names[i]}.parquet\", compression='gzip', engine=\"pyarrow\")"
   ]
  },
  {
   "attachments": {},
   "cell_type": "markdown",
   "metadata": {},
   "source": [
    "## QUERYS"
   ]
  },
  {
   "cell_type": "code",
   "execution_count": 6,
   "metadata": {},
   "outputs": [
    {
     "data": {
      "text/plain": [
       "['ParquetData\\\\customer.parquet',\n",
       " 'ParquetData\\\\lineitem.parquet',\n",
       " 'ParquetData\\\\nation.parquet',\n",
       " 'ParquetData\\\\orders.parquet',\n",
       " 'ParquetData\\\\part.parquet',\n",
       " 'ParquetData\\\\partsupp.parquet',\n",
       " 'ParquetData\\\\region.parquet',\n",
       " 'ParquetData\\\\supplier.parquet']"
      ]
     },
     "execution_count": 6,
     "metadata": {},
     "output_type": "execute_result"
    }
   ],
   "source": [
    "glob(\"ParquetData/*\")"
   ]
  },
  {
   "cell_type": "code",
   "execution_count": 7,
   "metadata": {},
   "outputs": [],
   "source": [
    "df_customer = pd.read_parquet('ParquetData\\\\customer.parquet')\n",
    "df_lineitem = pd.read_parquet('ParquetData\\\\lineitem.parquet')\n",
    "df_nation = pd.read_parquet('ParquetData\\\\nation.parquet')\n",
    "df_orders = pd.read_parquet('ParquetData\\\\orders.parquet')\n",
    "df_part = pd.read_parquet('ParquetData\\\\part.parquet')\n",
    "df_partsupp = pd.read_parquet('ParquetData\\\\partsupp.parquet')\n",
    "df_region = pd.read_parquet('ParquetData\\\\customer.parquet')\n",
    "df_supplier = pd.read_parquet('ParquetData\\\\supplier.parquet')"
   ]
  },
  {
   "cell_type": "code",
   "execution_count": 11,
   "metadata": {},
   "outputs": [
    {
     "data": {
      "text/plain": [
       "┌────────────┬────────────────────┬─────────────┬────────────────┐\n",
       "│ l_orderkey │      revenue       │ o_orderdate │ o_shippriority │\n",
       "│   int64    │       double       │   varchar   │     int64      │\n",
       "├────────────┼────────────────────┼─────────────┼────────────────┤\n",
       "│    4791171 │        440715.2185 │ 1995-02-23  │              0 │\n",
       "│   46678469 │ 439855.32499999995 │ 1995-01-27  │              0 │\n",
       "│   23906758 │ 432728.57369999995 │ 1995-03-14  │              0 │\n",
       "│   23861382 │        428739.1368 │ 1995-03-09  │              0 │\n",
       "│   59393639 │        426036.0662 │ 1995-02-12  │              0 │\n",
       "│    3355202 │        425100.6657 │ 1995-03-04  │              0 │\n",
       "│    9806272 │        425088.0568 │ 1995-03-13  │              0 │\n",
       "│   22810436 │         423231.969 │ 1995-01-02  │              0 │\n",
       "│   16384100 │ 421478.72940000007 │ 1995-03-02  │              0 │\n",
       "│   52974151 │ 415367.11950000003 │ 1995-02-05  │              0 │\n",
       "├────────────┴────────────────────┴─────────────┴────────────────┤\n",
       "│ 10 rows                                              4 columns │\n",
       "└────────────────────────────────────────────────────────────────┘"
      ]
     },
     "execution_count": 11,
     "metadata": {},
     "output_type": "execute_result"
    }
   ],
   "source": [
    "query1 = \"\"\"select\n",
    "\tl_orderkey,\n",
    "\tsum(l_extendedprice * (1 - l_discount)) as revenue,\n",
    "\to_orderdate,\n",
    "\to_shippriority\n",
    "from\n",
    "\tdf_customer,\n",
    "\tdf_orders,\n",
    "\tdf_lineitem\n",
    "where\n",
    "\tc_mktsegment = 'BUILDING'\n",
    "\tand c_custkey = o_custkey\n",
    "\tand l_orderkey = o_orderkey\n",
    "\tand o_orderdate < date '1995-03-15'\n",
    "\tand l_shipdate > date '1995-03-15'\n",
    "group by\n",
    "\tl_orderkey,\n",
    "\to_orderdate,\n",
    "\to_shippriority\n",
    "order by\n",
    "\trevenue desc,\n",
    "\to_orderdate\n",
    "limit 10;\"\"\"\n",
    "duckdb.sql(query1)\n"
   ]
  },
  {
   "cell_type": "code",
   "execution_count": 8,
   "metadata": {},
   "outputs": [
    {
     "data": {
      "application/vnd.jupyter.widget-view+json": {
       "model_id": "f21440c0f712432bb9740e01fd0d0074",
       "version_major": 2,
       "version_minor": 0
      },
      "text/plain": [
       "FloatProgress(value=0.0, layout=Layout(width='100%'), style=ProgressStyle(bar_color='black'))"
      ]
     },
     "metadata": {},
     "output_type": "display_data"
    },
    {
     "data": {
      "text/plain": [
       "┌───────────┬────────────────────┬───────────────────┬───┬─────────────────┬──────────────────────┐\n",
       "│ c_custkey │       c_name       │      revenue      │ … │     c_phone     │      c_comment       │\n",
       "│   int64   │      varchar       │      double       │   │     varchar     │       varchar        │\n",
       "├───────────┼────────────────────┼───────────────────┼───┼─────────────────┼──────────────────────┤\n",
       "│   1237537 │ Customer#001237537 │       884989.6657 │ … │ 32-367-120-4327 │ nag carefully abou…  │\n",
       "│   1116802 │ Customer#001116802 │       830214.1117 │ … │ 23-199-655-3770 │ ests. quickly iron…  │\n",
       "│    508954 │ Customer#000508954 │ 826167.5138000001 │ … │ 15-880-510-9487 │ ickly regular depo…  │\n",
       "│   1487503 │ Customer#001487503 │       825996.5903 │ … │ 20-271-234-4401 │ ccounts sleep care…  │\n",
       "│   1461247 │ Customer#001461247 │ 775992.0819999999 │ … │ 30-137-949-5375 │ atterns sleep blit…  │\n",
       "│   1316338 │ Customer#001316338 │ 765063.7002999999 │ … │ 18-793-610-3832 │ equests. regular, …  │\n",
       "│    817849 │ Customer#000817849 │ 737664.7231999999 │ … │ 25-111-847-3201 │ fully special acco…  │\n",
       "│   1335394 │ Customer#001335394 │       731259.8675 │ … │ 31-760-271-2302 │  slyly even instru…  │\n",
       "│    102358 │ Customer#000102358 │ 715001.8825000001 │ … │ 12-941-212-8350 │ y slyly regular mu…  │\n",
       "│   1432624 │ Customer#001432624 │       713512.6431 │ … │ 16-550-232-2774 │ ctions use regular…  │\n",
       "│    160528 │ Customer#000160528 │ 710673.3317000001 │ … │ 19-670-600-6340 │ sly regular theodo…  │\n",
       "│   1345237 │ Customer#001345237 │       707735.5745 │ … │ 16-133-279-4001 │ s according to the…  │\n",
       "│    839816 │ Customer#000839816 │       705643.2854 │ … │ 34-453-282-7925 │  unusual requests …  │\n",
       "│   1136716 │ Customer#001136716 │       695043.5606 │ … │ 28-729-762-5783 │ e foxes. bold orbi…  │\n",
       "│   1439413 │ Customer#001439413 │       690161.9783 │ … │ 15-432-961-8772 │ quick foxes are. f…  │\n",
       "│   1392475 │ Customer#001392475 │       685464.4086 │ … │ 30-640-220-2095 │  boldly-- slyly ca…  │\n",
       "│    616909 │ Customer#000616909 │ 684978.1044000001 │ … │ 14-185-768-2185 │ uests. theodolites…  │\n",
       "│    314272 │ Customer#000314272 │       682212.6365 │ … │ 34-674-752-5199 │ fix carefully depo…  │\n",
       "│   1472980 │ Customer#001472980 │        677765.918 │ … │ 21-506-776-4657 │ s use slyly thinly…  │\n",
       "│   1486201 │ Customer#001486201 │ 674878.4539000001 │ … │ 23-611-797-4750 │ ag. deposits along…  │\n",
       "├───────────┴────────────────────┴───────────────────┴───┴─────────────────┴──────────────────────┤\n",
       "│ 20 rows                                                                     8 columns (5 shown) │\n",
       "└─────────────────────────────────────────────────────────────────────────────────────────────────┘"
      ]
     },
     "execution_count": 8,
     "metadata": {},
     "output_type": "execute_result"
    }
   ],
   "source": [
    "query2 = \"\"\"\n",
    "select\n",
    "\tc_custkey,\n",
    "\tc_name,\n",
    "\tsum(l_extendedprice * (1 - l_discount)) as revenue,\n",
    "\tc_acctbal,\n",
    "\tn_name,\n",
    "\tc_address,\n",
    "\tc_phone,\n",
    "\tc_comment\n",
    "from\n",
    "\tdf_customer,\n",
    "\tdf_orders,\n",
    "\tdf_lineitem,\n",
    "\tdf_nation\n",
    "where\n",
    "\tc_custkey = o_custkey\n",
    "\tand l_orderkey = o_orderkey\n",
    "\tand o_orderdate >= date '1993-10-01'\n",
    "\tand o_orderdate < date '1993-10-01' + interval '3' month\n",
    "\tand l_returnflag = 'R'\n",
    "\tand c_nationkey = n_nationkey\n",
    "group by\n",
    "\tc_custkey,\n",
    "\tc_name,\n",
    "\tc_acctbal,\n",
    "\tc_phone,\n",
    "\tn_name,\n",
    "\tc_address,\n",
    "\tc_comment\n",
    "order by\n",
    "\trevenue desc\n",
    "limit 20;\n",
    "\"\"\"\n",
    "duckdb.sql(query2)\n"
   ]
  },
  {
   "cell_type": "code",
   "execution_count": 10,
   "metadata": {},
   "outputs": [
    {
     "data": {
      "application/vnd.jupyter.widget-view+json": {
       "model_id": "b462bb20d1b343d6b62cbd8a00bf0d8a",
       "version_major": 2,
       "version_minor": 0
      },
      "text/plain": [
       "FloatProgress(value=0.0, layout=Layout(width='100%'), style=ProgressStyle(bar_color='black'))"
      ]
     },
     "metadata": {},
     "output_type": "display_data"
    },
    {
     "data": {
      "text/plain": [
       "┌────────────────────┬───────────┬────────────┬─────────────┬──────────────┬─────────────────┐\n",
       "│       c_name       │ c_custkey │ o_orderkey │ o_orderdate │ o_totalprice │ sum(l_quantity) │\n",
       "│      varchar       │   int64   │   int64    │   varchar   │    double    │     int128      │\n",
       "├────────────────────┼───────────┼────────────┼─────────────┼──────────────┼─────────────────┤\n",
       "│ Customer#001287812 │   1287812 │   42290181 │ 1997-11-26  │    558289.17 │             318 │\n",
       "│ Customer#000644812 │    644812 │    2745894 │ 1996-07-04  │    557664.53 │             304 │\n",
       "│ Customer#001172513 │   1172513 │   36667107 │ 1997-06-06  │    550142.18 │             322 │\n",
       "│ Customer#000399481 │    399481 │   43906817 │ 1995-04-06  │    549431.65 │             312 │\n",
       "│ Customer#000571654 │    571654 │   21213895 │ 1992-01-03  │    549380.08 │             327 │\n",
       "│ Customer#000667882 │    667882 │    2199712 │ 1996-09-30  │    542154.01 │             327 │\n",
       "│ Customer#001492954 │   1492954 │   30332516 │ 1996-03-10  │     541181.8 │             310 │\n",
       "│ Customer#001471966 │   1471966 │    1263015 │ 1997-02-02  │     540476.8 │             320 │\n",
       "│ Customer#001082018 │   1082018 │   31018979 │ 1995-12-06  │    537993.05 │             304 │\n",
       "│ Customer#001114039 │   1114039 │   30417318 │ 1995-10-31  │    536420.39 │             305 │\n",
       "│         ·          │       ·   │       ·    │     ·       │        ·     │              ·  │\n",
       "│         ·          │       ·   │       ·    │     ·       │        ·     │              ·  │\n",
       "│         ·          │       ·   │       ·    │     ·       │        ·     │              ·  │\n",
       "│ Customer#000166589 │    166589 │   46685344 │ 1993-12-14  │    496075.11 │             327 │\n",
       "│ Customer#001265035 │   1265035 │   12845285 │ 1993-05-25  │    495963.43 │             304 │\n",
       "│ Customer#000385288 │    385288 │   51929955 │ 1993-04-19  │    495841.65 │             304 │\n",
       "│ Customer#000903416 │    903416 │   22789733 │ 1997-06-18  │    494910.15 │             303 │\n",
       "│ Customer#000961012 │    961012 │    5984582 │ 1992-03-16  │    494315.92 │             312 │\n",
       "│ Customer#000608233 │    608233 │   28092902 │ 1997-03-23  │    494174.42 │             306 │\n",
       "│ Customer#001000373 │   1000373 │   18200676 │ 1994-06-22  │    494028.41 │             307 │\n",
       "│ Customer#000414544 │    414544 │   33162084 │ 1994-02-15  │    493935.58 │             304 │\n",
       "│ Customer#000149107 │    149107 │   52357185 │ 1993-04-06  │    493715.64 │             307 │\n",
       "│ Customer#000895330 │    895330 │   21312615 │ 1995-12-08  │    493501.75 │             303 │\n",
       "├────────────────────┴───────────┴────────────┴─────────────┴──────────────┴─────────────────┤\n",
       "│ 100 rows (20 shown)                                                              6 columns │\n",
       "└────────────────────────────────────────────────────────────────────────────────────────────┘"
      ]
     },
     "execution_count": 10,
     "metadata": {},
     "output_type": "execute_result"
    }
   ],
   "source": [
    "query3 = \"\"\"\n",
    "select\n",
    "\tc_name,\n",
    "\tc_custkey,\n",
    "\to_orderkey,\n",
    "\to_orderdate,\n",
    "\to_totalprice,\n",
    "\tsum(l_quantity)\n",
    "from\n",
    "\tdf_customer,\n",
    "\tdf_orders,\n",
    "\tdf_lineitem\n",
    "where\n",
    "\to_orderkey in (\n",
    "\t\tselect\n",
    "\t\t\tl_orderkey\n",
    "\t\tfrom\n",
    "\t\t\tdf_lineitem\n",
    "\t\tgroup by\n",
    "\t\t\tl_orderkey having\n",
    "\t\t\t\tsum(l_quantity) > 300\n",
    "\t)\n",
    "\tand c_custkey = o_custkey\n",
    "\tand o_orderkey = l_orderkey\n",
    "group by\n",
    "\tc_name,\n",
    "\tc_custkey,\n",
    "\to_orderkey,\n",
    "\to_orderdate,\n",
    "\to_totalprice\n",
    "order by\n",
    "\to_totalprice desc,\n",
    "\to_orderdate\n",
    "limit 100;\n",
    "\"\"\"\n",
    "duckdb.sql(query3)\n"
   ]
  },
  {
   "cell_type": "code",
   "execution_count": null,
   "metadata": {},
   "outputs": [],
   "source": []
  }
 ],
 "metadata": {
  "kernelspec": {
   "display_name": "base",
   "language": "python",
   "name": "python3"
  },
  "language_info": {
   "codemirror_mode": {
    "name": "ipython",
    "version": 3
   },
   "file_extension": ".py",
   "mimetype": "text/x-python",
   "name": "python",
   "nbconvert_exporter": "python",
   "pygments_lexer": "ipython3",
   "version": "3.9.12"
  },
  "orig_nbformat": 4
 },
 "nbformat": 4,
 "nbformat_minor": 2
}
